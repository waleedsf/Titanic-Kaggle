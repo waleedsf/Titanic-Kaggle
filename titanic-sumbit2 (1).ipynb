{
 "cells": [
  {
   "cell_type": "code",
   "execution_count": 1,
   "id": "4e36e167",
   "metadata": {
    "_cell_guid": "b1076dfc-b9ad-4769-8c92-a6c4dae69d19",
    "_uuid": "8f2839f25d086af736a60e9eeb907d3b93b6e0e5",
    "execution": {
     "iopub.execute_input": "2022-06-01T20:53:31.179922Z",
     "iopub.status.busy": "2022-06-01T20:53:31.179409Z",
     "iopub.status.idle": "2022-06-01T20:53:32.548657Z",
     "shell.execute_reply": "2022-06-01T20:53:32.547533Z"
    },
    "papermill": {
     "duration": 1.426263,
     "end_time": "2022-06-01T20:53:32.552493",
     "exception": false,
     "start_time": "2022-06-01T20:53:31.126230",
     "status": "completed"
    },
    "tags": []
   },
   "outputs": [
    {
     "name": "stdout",
     "output_type": "stream",
     "text": [
      "/kaggle/input/titanic/train.csv\n",
      "/kaggle/input/titanic/test.csv\n",
      "/kaggle/input/titanic/gender_submission.csv\n"
     ]
    }
   ],
   "source": [
    "## This Python 3 environment comes with many helpful analytics libraries installed\n",
    "# It is defined by the kaggle/python Docker image: https://github.com/kaggle/docker-python\n",
    "# For example, here's several helpful packages to load\n",
    "\n",
    "import numpy as np # linear algebra\n",
    "import pandas as pd # data processing, CSV file I/O (e.g. pd.read_csv)\n",
    "import seaborn as sns\n",
    "import matplotlib.pyplot as plt\n",
    "\n",
    "# Input data files are available in the read-only \"../input/\" directory\n",
    "# For example, running this (by clicking run or pressing Shift+Enter) will list all files under the input directory\n",
    "\n",
    "import os\n",
    "for dirname, _, filenames in os.walk('/kaggle/input'):\n",
    "    for filename in filenames:\n",
    "        print(os.path.join(dirname, filename))\n",
    "\n",
    "# You can write up to 20GB to the current directory (/kaggle/working/) that gets preserved as output when you create a version using \"Save & Run All\" \n",
    "# You can also write temporary files to /kaggle/temp/, but they won't be saved outside of the current session"
   ]
  },
  {
   "cell_type": "code",
   "execution_count": 2,
   "id": "5252ac7b",
   "metadata": {
    "execution": {
     "iopub.execute_input": "2022-06-01T20:53:32.648704Z",
     "iopub.status.busy": "2022-06-01T20:53:32.648129Z",
     "iopub.status.idle": "2022-06-01T20:53:32.675629Z",
     "shell.execute_reply": "2022-06-01T20:53:32.674845Z"
    },
    "papermill": {
     "duration": 0.077097,
     "end_time": "2022-06-01T20:53:32.677986",
     "exception": false,
     "start_time": "2022-06-01T20:53:32.600889",
     "status": "completed"
    },
    "tags": []
   },
   "outputs": [],
   "source": [
    "train_set = pd.read_csv(\"../input/titanic/train.csv\")\n",
    "test_set = pd.read_csv(\"../input/titanic/test.csv\")\n"
   ]
  },
  {
   "cell_type": "code",
   "execution_count": 3,
   "id": "ed373941",
   "metadata": {
    "execution": {
     "iopub.execute_input": "2022-06-01T20:53:32.776339Z",
     "iopub.status.busy": "2022-06-01T20:53:32.775480Z",
     "iopub.status.idle": "2022-06-01T20:53:32.818401Z",
     "shell.execute_reply": "2022-06-01T20:53:32.817616Z"
    },
    "papermill": {
     "duration": 0.094747,
     "end_time": "2022-06-01T20:53:32.821054",
     "exception": false,
     "start_time": "2022-06-01T20:53:32.726307",
     "status": "completed"
    },
    "tags": []
   },
   "outputs": [
    {
     "name": "stdout",
     "output_type": "stream",
     "text": [
      "<class 'pandas.core.frame.DataFrame'>\n",
      "RangeIndex: 891 entries, 0 to 890\n",
      "Data columns (total 12 columns):\n",
      " #   Column       Non-Null Count  Dtype  \n",
      "---  ------       --------------  -----  \n",
      " 0   PassengerId  891 non-null    int64  \n",
      " 1   Survived     891 non-null    int64  \n",
      " 2   Pclass       891 non-null    int64  \n",
      " 3   Name         891 non-null    object \n",
      " 4   Sex          891 non-null    object \n",
      " 5   Age          714 non-null    float64\n",
      " 6   SibSp        891 non-null    int64  \n",
      " 7   Parch        891 non-null    int64  \n",
      " 8   Ticket       891 non-null    object \n",
      " 9   Fare         891 non-null    float64\n",
      " 10  Cabin        204 non-null    object \n",
      " 11  Embarked     889 non-null    object \n",
      "dtypes: float64(2), int64(5), object(5)\n",
      "memory usage: 83.7+ KB\n",
      "train setNone\n",
      "-----------------------------------------\n",
      "<class 'pandas.core.frame.DataFrame'>\n",
      "RangeIndex: 418 entries, 0 to 417\n",
      "Data columns (total 11 columns):\n",
      " #   Column       Non-Null Count  Dtype  \n",
      "---  ------       --------------  -----  \n",
      " 0   PassengerId  418 non-null    int64  \n",
      " 1   Pclass       418 non-null    int64  \n",
      " 2   Name         418 non-null    object \n",
      " 3   Sex          418 non-null    object \n",
      " 4   Age          332 non-null    float64\n",
      " 5   SibSp        418 non-null    int64  \n",
      " 6   Parch        418 non-null    int64  \n",
      " 7   Ticket       418 non-null    object \n",
      " 8   Fare         417 non-null    float64\n",
      " 9   Cabin        91 non-null     object \n",
      " 10  Embarked     418 non-null    object \n",
      "dtypes: float64(2), int64(4), object(5)\n",
      "memory usage: 36.0+ KB\n",
      "test setNone\n"
     ]
    }
   ],
   "source": [
    "print(\"train set{}\".format(train_set.info()))\n",
    "print(\"-----------------------------------------\")\n",
    "print(\"test set{}\".format(test_set.info()))\n"
   ]
  },
  {
   "cell_type": "code",
   "execution_count": 4,
   "id": "acd0faf3",
   "metadata": {
    "execution": {
     "iopub.execute_input": "2022-06-01T20:53:32.918544Z",
     "iopub.status.busy": "2022-06-01T20:53:32.918227Z",
     "iopub.status.idle": "2022-06-01T20:53:34.085773Z",
     "shell.execute_reply": "2022-06-01T20:53:34.085077Z"
    },
    "papermill": {
     "duration": 1.219577,
     "end_time": "2022-06-01T20:53:34.087973",
     "exception": false,
     "start_time": "2022-06-01T20:53:32.868396",
     "status": "completed"
    },
    "tags": []
   },
   "outputs": [
    {
     "data": {
      "text/plain": [
       "array([[<AxesSubplot:title={'center':'PassengerId'}>,\n",
       "        <AxesSubplot:title={'center':'Survived'}>,\n",
       "        <AxesSubplot:title={'center':'Pclass'}>],\n",
       "       [<AxesSubplot:title={'center':'Age'}>,\n",
       "        <AxesSubplot:title={'center':'SibSp'}>,\n",
       "        <AxesSubplot:title={'center':'Parch'}>],\n",
       "       [<AxesSubplot:title={'center':'Fare'}>, <AxesSubplot:>,\n",
       "        <AxesSubplot:>]], dtype=object)"
      ]
     },
     "execution_count": 4,
     "metadata": {},
     "output_type": "execute_result"
    },
    {
     "data": {
      "image/png": "[encoded data removed]",
      "text/plain": [
       "<Figure size 720x432 with 9 Axes>"
      ]
     },
     "metadata": {
      "needs_background": "light"
     },
     "output_type": "display_data"
    }
   ],
   "source": [
    "train_set.hist(bins = 30 , figsize=(10,6))"
   ]
  },
  {
   "cell_type": "code",
   "execution_count": 5,
   "id": "5735a7d4",
   "metadata": {
    "execution": {
     "iopub.execute_input": "2022-06-01T20:53:34.190341Z",
     "iopub.status.busy": "2022-06-01T20:53:34.189740Z",
     "iopub.status.idle": "2022-06-01T20:53:34.202422Z",
     "shell.execute_reply": "2022-06-01T20:53:34.201773Z"
    },
    "papermill": {
     "duration": 0.065051,
     "end_time": "2022-06-01T20:53:34.205421",
     "exception": false,
     "start_time": "2022-06-01T20:53:34.140370",
     "status": "completed"
    },
    "tags": []
   },
   "outputs": [
    {
     "name": "stdout",
     "output_type": "stream",
     "text": [
      "number of dead pepole: 549\n",
      "number of survived pepole: 342\n",
      "891\n"
     ]
    }
   ],
   "source": [
    "# Checking if data balanced\n",
    "\n",
    "x = train_set[train_set[\"Survived\"] == 0].count()[0]\n",
    "y = train_set[train_set[\"Survived\"] == 1].count()[0]\n",
    "\n",
    "print(\"number of dead pepole: {}\".format(x))\n",
    "print(\"number of survived pepole: {}\".format(y))\n",
    "print(x+y)"
   ]
  },
  {
   "cell_type": "code",
   "execution_count": 6,
   "id": "e925564c",
   "metadata": {
    "execution": {
     "iopub.execute_input": "2022-06-01T20:53:34.303875Z",
     "iopub.status.busy": "2022-06-01T20:53:34.303315Z",
     "iopub.status.idle": "2022-06-01T20:53:34.531118Z",
     "shell.execute_reply": "2022-06-01T20:53:34.530229Z"
    },
    "papermill": {
     "duration": 0.27993,
     "end_time": "2022-06-01T20:53:34.533511",
     "exception": false,
     "start_time": "2022-06-01T20:53:34.253581",
     "status": "completed"
    },
    "tags": []
   },
   "outputs": [
    {
     "data": {
      "text/plain": [
       "<AxesSubplot:>"
      ]
     },
     "execution_count": 6,
     "metadata": {},
     "output_type": "execute_result"
    },
    {
     "data": {
      "image/png": "[encoded data removed]",
      "text/plain": [
       "<Figure size 432x288 with 1 Axes>"
      ]
     },
     "metadata": {
      "needs_background": "light"
     },
     "output_type": "display_data"
    }
   ],
   "source": [
    "train_set[\"Age\"].hist(bins = 20)"
   ]
  },
  {
   "cell_type": "code",
   "execution_count": 7,
   "id": "612a7bc5",
   "metadata": {
    "execution": {
     "iopub.execute_input": "2022-06-01T20:53:34.635628Z",
     "iopub.status.busy": "2022-06-01T20:53:34.635328Z",
     "iopub.status.idle": "2022-06-01T20:53:34.672646Z",
     "shell.execute_reply": "2022-06-01T20:53:34.671665Z"
    },
    "papermill": {
     "duration": 0.090895,
     "end_time": "2022-06-01T20:53:34.674597",
     "exception": false,
     "start_time": "2022-06-01T20:53:34.583702",
     "status": "completed"
    },
    "tags": []
   },
   "outputs": [
    {
     "data": {
      "text/html": [
       "<div>\n",
       "<style scoped>\n",
       "    .dataframe tbody tr th:only-of-type {\n",
       "        vertical-align: middle;\n",
       "    }\n",
       "\n",
       "    .dataframe tbody tr th {\n",
       "        vertical-align: top;\n",
       "    }\n",
       "\n",
       "    .dataframe thead th {\n",
       "        text-align: right;\n",
       "    }\n",
       "</style>\n",
       "<table border=\"1\" class=\"dataframe\">\n",
       "  <thead>\n",
       "    <tr style=\"text-align: right;\">\n",
       "      <th></th>\n",
       "      <th>PassengerId</th>\n",
       "      <th>Survived</th>\n",
       "      <th>Pclass</th>\n",
       "      <th>Age</th>\n",
       "      <th>SibSp</th>\n",
       "      <th>Parch</th>\n",
       "      <th>Fare</th>\n",
       "    </tr>\n",
       "  </thead>\n",
       "  <tbody>\n",
       "    <tr>\n",
       "      <th>count</th>\n",
       "      <td>891.000000</td>\n",
       "      <td>891.000000</td>\n",
       "      <td>891.000000</td>\n",
       "      <td>714.000000</td>\n",
       "      <td>891.000000</td>\n",
       "      <td>891.000000</td>\n",
       "      <td>891.000000</td>\n",
       "    </tr>\n",
       "    <tr>\n",
       "      <th>mean</th>\n",
       "      <td>446.000000</td>\n",
       "      <td>0.383838</td>\n",
       "      <td>2.308642</td>\n",
       "      <td>29.699118</td>\n",
       "      <td>0.523008</td>\n",
       "      <td>0.381594</td>\n",
       "      <td>32.204208</td>\n",
       "    </tr>\n",
       "    <tr>\n",
       "      <th>std</th>\n",
       "      <td>257.353842</td>\n",
       "      <td>0.486592</td>\n",
       "      <td>0.836071</td>\n",
       "      <td>14.526497</td>\n",
       "      <td>1.102743</td>\n",
       "      <td>0.806057</td>\n",
       "      <td>49.693429</td>\n",
       "    </tr>\n",
       "    <tr>\n",
       "      <th>min</th>\n",
       "      <td>1.000000</td>\n",
       "      <td>0.000000</td>\n",
       "      <td>1.000000</td>\n",
       "      <td>0.420000</td>\n",
       "      <td>0.000000</td>\n",
       "      <td>0.000000</td>\n",
       "      <td>0.000000</td>\n",
       "    </tr>\n",
       "    <tr>\n",
       "      <th>25%</th>\n",
       "      <td>223.500000</td>\n",
       "      <td>0.000000</td>\n",
       "      <td>2.000000</td>\n",
       "      <td>20.125000</td>\n",
       "      <td>0.000000</td>\n",
       "      <td>0.000000</td>\n",
       "      <td>7.910400</td>\n",
       "    </tr>\n",
       "    <tr>\n",
       "      <th>50%</th>\n",
       "      <td>446.000000</td>\n",
       "      <td>0.000000</td>\n",
       "      <td>3.000000</td>\n",
       "      <td>28.000000</td>\n",
       "      <td>0.000000</td>\n",
       "      <td>0.000000</td>\n",
       "      <td>14.454200</td>\n",
       "    </tr>\n",
       "    <tr>\n",
       "      <th>75%</th>\n",
       "      <td>668.500000</td>\n",
       "      <td>1.000000</td>\n",
       "      <td>3.000000</td>\n",
       "      <td>38.000000</td>\n",
       "      <td>1.000000</td>\n",
       "      <td>0.000000</td>\n",
       "      <td>31.000000</td>\n",
       "    </tr>\n",
       "    <tr>\n",
       "      <th>max</th>\n",
       "      <td>891.000000</td>\n",
       "      <td>1.000000</td>\n",
       "      <td>3.000000</td>\n",
       "      <td>80.000000</td>\n",
       "      <td>8.000000</td>\n",
       "      <td>6.000000</td>\n",
       "      <td>512.329200</td>\n",
       "    </tr>\n",
       "  </tbody>\n",
       "</table>\n",
       "</div>"
      ],
      "text/plain": [
       "       PassengerId    Survived      Pclass         Age       SibSp  \\\n",
       "count   891.000000  891.000000  891.000000  714.000000  891.000000   \n",
       "mean    446.000000    0.383838    2.308642   29.699118    0.523008   \n",
       "std     257.353842    0.486592    0.836071   14.526497    1.102743   \n",
       "min       1.000000    0.000000    1.000000    0.420000    0.000000   \n",
       "25%     223.500000    0.000000    2.000000   20.125000    0.000000   \n",
       "50%     446.000000    0.000000    3.000000   28.000000    0.000000   \n",
       "75%     668.500000    1.000000    3.000000   38.000000    1.000000   \n",
       "max     891.000000    1.000000    3.000000   80.000000    8.000000   \n",
       "\n",
       "            Parch        Fare  \n",
       "count  891.000000  891.000000  \n",
       "mean     0.381594   32.204208  \n",
       "std      0.806057   49.693429  \n",
       "min      0.000000    0.000000  \n",
       "25%      0.000000    7.910400  \n",
       "50%      0.000000   14.454200  \n",
       "75%      0.000000   31.000000  \n",
       "max      6.000000  512.329200  "
      ]
     },
     "execution_count": 7,
     "metadata": {},
     "output_type": "execute_result"
    }
   ],
   "source": [
    "train_set.describe()"
   ]
  },
  {
   "cell_type": "code",
   "execution_count": 8,
   "id": "0b768dc7",
   "metadata": {
    "execution": {
     "iopub.execute_input": "2022-06-01T20:53:34.776101Z",
     "iopub.status.busy": "2022-06-01T20:53:34.775515Z",
     "iopub.status.idle": "2022-06-01T20:53:35.352526Z",
     "shell.execute_reply": "2022-06-01T20:53:35.351618Z"
    },
    "papermill": {
     "duration": 0.630566,
     "end_time": "2022-06-01T20:53:35.354698",
     "exception": false,
     "start_time": "2022-06-01T20:53:34.724132",
     "status": "completed"
    },
    "tags": []
   },
   "outputs": [
    {
     "data": {
      "text/plain": [
       "<seaborn.axisgrid.FacetGrid at 0x7f838d226d90>"
      ]
     },
     "execution_count": 8,
     "metadata": {},
     "output_type": "execute_result"
    },
    {
     "data": {
      "image/png": "[encoded data removed]",
      "text/plain": [
       "<Figure size 432x216 with 2 Axes>"
      ]
     },
     "metadata": {
      "needs_background": "light"
     },
     "output_type": "display_data"
    }
   ],
   "source": [
    "# 1 survived 0 Die\n",
    "\n",
    "g = sns.FacetGrid(train_set, col='Survived')\n",
    "g.map(plt.hist, 'Age', bins=20)"
   ]
  },
  {
   "cell_type": "code",
   "execution_count": 9,
   "id": "1c818082",
   "metadata": {
    "execution": {
     "iopub.execute_input": "2022-06-01T20:53:35.459957Z",
     "iopub.status.busy": "2022-06-01T20:53:35.459379Z",
     "iopub.status.idle": "2022-06-01T20:53:35.886442Z",
     "shell.execute_reply": "2022-06-01T20:53:35.885472Z"
    },
    "papermill": {
     "duration": 0.481731,
     "end_time": "2022-06-01T20:53:35.888688",
     "exception": false,
     "start_time": "2022-06-01T20:53:35.406957",
     "status": "completed"
    },
    "tags": []
   },
   "outputs": [
    {
     "data": {
      "text/plain": [
       "<seaborn.axisgrid.FacetGrid at 0x7f838d0dd390>"
      ]
     },
     "execution_count": 9,
     "metadata": {},
     "output_type": "execute_result"
    },
    {
     "data": {
      "image/png": "[encoded data removed]",
      "text/plain": [
       "<Figure size 432x216 with 2 Axes>"
      ]
     },
     "metadata": {
      "needs_background": "light"
     },
     "output_type": "display_data"
    }
   ],
   "source": [
    "g = sns.FacetGrid(train_set , col=\"Survived\")\n",
    "g.map(plt.hist , \"Fare\")"
   ]
  },
  {
   "cell_type": "code",
   "execution_count": 10,
   "id": "e3b252c6",
   "metadata": {
    "execution": {
     "iopub.execute_input": "2022-06-01T20:53:35.996463Z",
     "iopub.status.busy": "2022-06-01T20:53:35.995902Z",
     "iopub.status.idle": "2022-06-01T20:53:36.010884Z",
     "shell.execute_reply": "2022-06-01T20:53:36.009720Z"
    },
    "papermill": {
     "duration": 0.070675,
     "end_time": "2022-06-01T20:53:36.013163",
     "exception": false,
     "start_time": "2022-06-01T20:53:35.942488",
     "status": "completed"
    },
    "tags": []
   },
   "outputs": [
    {
     "data": {
      "text/html": [
       "<div>\n",
       "<style scoped>\n",
       "    .dataframe tbody tr th:only-of-type {\n",
       "        vertical-align: middle;\n",
       "    }\n",
       "\n",
       "    .dataframe tbody tr th {\n",
       "        vertical-align: top;\n",
       "    }\n",
       "\n",
       "    .dataframe thead th {\n",
       "        text-align: right;\n",
       "    }\n",
       "</style>\n",
       "<table border=\"1\" class=\"dataframe\">\n",
       "  <thead>\n",
       "    <tr style=\"text-align: right;\">\n",
       "      <th></th>\n",
       "      <th>Survived</th>\n",
       "    </tr>\n",
       "    <tr>\n",
       "      <th>Pclass</th>\n",
       "      <th></th>\n",
       "    </tr>\n",
       "  </thead>\n",
       "  <tbody>\n",
       "    <tr>\n",
       "      <th>1</th>\n",
       "      <td>0.629630</td>\n",
       "    </tr>\n",
       "    <tr>\n",
       "      <th>2</th>\n",
       "      <td>0.472826</td>\n",
       "    </tr>\n",
       "    <tr>\n",
       "      <th>3</th>\n",
       "      <td>0.242363</td>\n",
       "    </tr>\n",
       "  </tbody>\n",
       "</table>\n",
       "</div>"
      ],
      "text/plain": [
       "        Survived\n",
       "Pclass          \n",
       "1       0.629630\n",
       "2       0.472826\n",
       "3       0.242363"
      ]
     },
     "execution_count": 10,
     "metadata": {},
     "output_type": "execute_result"
    }
   ],
   "source": [
    "# people with higher class better chance to survive\n",
    "\n",
    "train_set[['Pclass', 'Survived']].groupby(['Pclass']).mean()\n"
   ]
  },
  {
   "cell_type": "code",
   "execution_count": 11,
   "id": "e68e81ed",
   "metadata": {
    "execution": {
     "iopub.execute_input": "2022-06-01T20:53:36.122409Z",
     "iopub.status.busy": "2022-06-01T20:53:36.121696Z",
     "iopub.status.idle": "2022-06-01T20:53:36.134746Z",
     "shell.execute_reply": "2022-06-01T20:53:36.134020Z"
    },
    "papermill": {
     "duration": 0.069093,
     "end_time": "2022-06-01T20:53:36.136562",
     "exception": false,
     "start_time": "2022-06-01T20:53:36.067469",
     "status": "completed"
    },
    "tags": []
   },
   "outputs": [
    {
     "data": {
      "text/html": [
       "<div>\n",
       "<style scoped>\n",
       "    .dataframe tbody tr th:only-of-type {\n",
       "        vertical-align: middle;\n",
       "    }\n",
       "\n",
       "    .dataframe tbody tr th {\n",
       "        vertical-align: top;\n",
       "    }\n",
       "\n",
       "    .dataframe thead th {\n",
       "        text-align: right;\n",
       "    }\n",
       "</style>\n",
       "<table border=\"1\" class=\"dataframe\">\n",
       "  <thead>\n",
       "    <tr style=\"text-align: right;\">\n",
       "      <th></th>\n",
       "      <th>Survived</th>\n",
       "    </tr>\n",
       "    <tr>\n",
       "      <th>Sex</th>\n",
       "      <th></th>\n",
       "    </tr>\n",
       "  </thead>\n",
       "  <tbody>\n",
       "    <tr>\n",
       "      <th>female</th>\n",
       "      <td>0.742038</td>\n",
       "    </tr>\n",
       "    <tr>\n",
       "      <th>male</th>\n",
       "      <td>0.188908</td>\n",
       "    </tr>\n",
       "  </tbody>\n",
       "</table>\n",
       "</div>"
      ],
      "text/plain": [
       "        Survived\n",
       "Sex             \n",
       "female  0.742038\n",
       "male    0.188908"
      ]
     },
     "execution_count": 11,
     "metadata": {},
     "output_type": "execute_result"
    }
   ],
   "source": [
    "train_set[[\"Sex\" , \"Survived\"]].groupby([\"Sex\"]).mean()"
   ]
  },
  {
   "cell_type": "markdown",
   "id": "95d2454e",
   "metadata": {
    "papermill": {
     "duration": 0.056094,
     "end_time": "2022-06-01T20:53:36.247984",
     "exception": false,
     "start_time": "2022-06-01T20:53:36.191890",
     "status": "completed"
    },
    "tags": []
   },
   "source": [
    "# Dealing with missing values"
   ]
  },
  {
   "cell_type": "code",
   "execution_count": 12,
   "id": "5a54e4eb",
   "metadata": {
    "execution": {
     "iopub.execute_input": "2022-06-01T20:53:36.359453Z",
     "iopub.status.busy": "2022-06-01T20:53:36.359169Z",
     "iopub.status.idle": "2022-06-01T20:53:36.368190Z",
     "shell.execute_reply": "2022-06-01T20:53:36.367256Z"
    },
    "papermill": {
     "duration": 0.069487,
     "end_time": "2022-06-01T20:53:36.370823",
     "exception": false,
     "start_time": "2022-06-01T20:53:36.301336",
     "status": "completed"
    },
    "tags": []
   },
   "outputs": [
    {
     "data": {
      "text/plain": [
       "PassengerId      0\n",
       "Survived         0\n",
       "Pclass           0\n",
       "Name             0\n",
       "Sex              0\n",
       "Age            177\n",
       "SibSp            0\n",
       "Parch            0\n",
       "Ticket           0\n",
       "Fare             0\n",
       "Cabin          687\n",
       "Embarked         2\n",
       "dtype: int64"
      ]
     },
     "execution_count": 12,
     "metadata": {},
     "output_type": "execute_result"
    }
   ],
   "source": [
    "train_set.isnull().sum()\n"
   ]
  },
  {
   "cell_type": "code",
   "execution_count": 13,
   "id": "2983af96",
   "metadata": {
    "execution": {
     "iopub.execute_input": "2022-06-01T20:53:36.487194Z",
     "iopub.status.busy": "2022-06-01T20:53:36.486429Z",
     "iopub.status.idle": "2022-06-01T20:53:36.494799Z",
     "shell.execute_reply": "2022-06-01T20:53:36.494044Z"
    },
    "papermill": {
     "duration": 0.068689,
     "end_time": "2022-06-01T20:53:36.497214",
     "exception": false,
     "start_time": "2022-06-01T20:53:36.428525",
     "status": "completed"
    },
    "tags": []
   },
   "outputs": [
    {
     "data": {
      "text/plain": [
       "PassengerId      0\n",
       "Pclass           0\n",
       "Name             0\n",
       "Sex              0\n",
       "Age             86\n",
       "SibSp            0\n",
       "Parch            0\n",
       "Ticket           0\n",
       "Fare             1\n",
       "Cabin          327\n",
       "Embarked         0\n",
       "dtype: int64"
      ]
     },
     "execution_count": 13,
     "metadata": {},
     "output_type": "execute_result"
    }
   ],
   "source": [
    "test_set.isnull().sum()"
   ]
  },
  {
   "cell_type": "code",
   "execution_count": 14,
   "id": "d85a707e",
   "metadata": {
    "execution": {
     "iopub.execute_input": "2022-06-01T20:53:36.609616Z",
     "iopub.status.busy": "2022-06-01T20:53:36.609049Z",
     "iopub.status.idle": "2022-06-01T20:53:36.615182Z",
     "shell.execute_reply": "2022-06-01T20:53:36.614481Z"
    },
    "papermill": {
     "duration": 0.065746,
     "end_time": "2022-06-01T20:53:36.618852",
     "exception": false,
     "start_time": "2022-06-01T20:53:36.553106",
     "status": "completed"
    },
    "tags": []
   },
   "outputs": [
    {
     "name": "stdout",
     "output_type": "stream",
     "text": [
      "age mean - train data: 29.69911764705882\n",
      "age mean - test data: 30.272590361445783\n"
     ]
    }
   ],
   "source": [
    "print(\"age mean - train data: {}\".format(train_set[\"Age\"].mean()))\n",
    "print(\"age mean - test data: {}\".format(test_set[\"Age\"].mean()))"
   ]
  },
  {
   "cell_type": "code",
   "execution_count": 15,
   "id": "0b674749",
   "metadata": {
    "execution": {
     "iopub.execute_input": "2022-06-01T20:53:36.734305Z",
     "iopub.status.busy": "2022-06-01T20:53:36.733372Z",
     "iopub.status.idle": "2022-06-01T20:53:36.957887Z",
     "shell.execute_reply": "2022-06-01T20:53:36.957208Z"
    },
    "papermill": {
     "duration": 0.286687,
     "end_time": "2022-06-01T20:53:36.960221",
     "exception": false,
     "start_time": "2022-06-01T20:53:36.673534",
     "status": "completed"
    },
    "tags": []
   },
   "outputs": [
    {
     "data": {
      "text/plain": [
       "<AxesSubplot:>"
      ]
     },
     "execution_count": 15,
     "metadata": {},
     "output_type": "execute_result"
    },
    {
     "data": {
      "image/png": "[encoded data removed]",
      "text/plain": [
       "<Figure size 432x288 with 1 Axes>"
      ]
     },
     "metadata": {
      "needs_background": "light"
     },
     "output_type": "display_data"
    }
   ],
   "source": [
    "train_set[\"Age\"].hist()"
   ]
  },
  {
   "cell_type": "code",
   "execution_count": 16,
   "id": "aaeb486c",
   "metadata": {
    "execution": {
     "iopub.execute_input": "2022-06-01T20:53:37.076965Z",
     "iopub.status.busy": "2022-06-01T20:53:37.076145Z",
     "iopub.status.idle": "2022-06-01T20:53:37.082670Z",
     "shell.execute_reply": "2022-06-01T20:53:37.082031Z"
    },
    "papermill": {
     "duration": 0.066492,
     "end_time": "2022-06-01T20:53:37.084944",
     "exception": false,
     "start_time": "2022-06-01T20:53:37.018452",
     "status": "completed"
    },
    "tags": []
   },
   "outputs": [],
   "source": [
    "train_set[\"Age\"] = train_set[\"Age\"].fillna(train_set[\"Age\"].mean())\n",
    "\n",
    "test_set[\"Age\"] = test_set[\"Age\"].fillna(test_set[\"Age\"].mean())"
   ]
  },
  {
   "cell_type": "code",
   "execution_count": 17,
   "id": "1e2d8f45",
   "metadata": {
    "execution": {
     "iopub.execute_input": "2022-06-01T20:53:37.200626Z",
     "iopub.status.busy": "2022-06-01T20:53:37.200087Z",
     "iopub.status.idle": "2022-06-01T20:53:37.417132Z",
     "shell.execute_reply": "2022-06-01T20:53:37.416181Z"
    },
    "papermill": {
     "duration": 0.278182,
     "end_time": "2022-06-01T20:53:37.419758",
     "exception": false,
     "start_time": "2022-06-01T20:53:37.141576",
     "status": "completed"
    },
    "tags": []
   },
   "outputs": [
    {
     "data": {
      "text/plain": [
       "<AxesSubplot:>"
      ]
     },
     "execution_count": 17,
     "metadata": {},
     "output_type": "execute_result"
    },
    {
     "data": {
      "image/png": "[encoded data removed]",
      "text/plain": [
       "<Figure size 432x288 with 1 Axes>"
      ]
     },
     "metadata": {
      "needs_background": "light"
     },
     "output_type": "display_data"
    }
   ],
   "source": [
    "train_set[\"Age\"].hist()"
   ]
  },
  {
   "cell_type": "code",
   "execution_count": 18,
   "id": "31f5f26c",
   "metadata": {
    "execution": {
     "iopub.execute_input": "2022-06-01T20:53:37.540648Z",
     "iopub.status.busy": "2022-06-01T20:53:37.539816Z",
     "iopub.status.idle": "2022-06-01T20:53:37.546461Z",
     "shell.execute_reply": "2022-06-01T20:53:37.545773Z"
    },
    "papermill": {
     "duration": 0.068553,
     "end_time": "2022-06-01T20:53:37.548684",
     "exception": false,
     "start_time": "2022-06-01T20:53:37.480131",
     "status": "completed"
    },
    "tags": []
   },
   "outputs": [],
   "source": [
    "train_set[[\"Embarked\"]] =train_set[[\"Embarked\"]].fillna(\"S\")"
   ]
  },
  {
   "cell_type": "code",
   "execution_count": 19,
   "id": "0e7334b5",
   "metadata": {
    "execution": {
     "iopub.execute_input": "2022-06-01T20:53:37.664703Z",
     "iopub.status.busy": "2022-06-01T20:53:37.664403Z",
     "iopub.status.idle": "2022-06-01T20:53:37.670975Z",
     "shell.execute_reply": "2022-06-01T20:53:37.669902Z"
    },
    "papermill": {
     "duration": 0.067042,
     "end_time": "2022-06-01T20:53:37.673243",
     "exception": false,
     "start_time": "2022-06-01T20:53:37.606201",
     "status": "completed"
    },
    "tags": []
   },
   "outputs": [],
   "source": [
    "test_set[\"Fare\"] = test_set[\"Fare\"].fillna(test_set[\"Fare\"].mean())\n"
   ]
  },
  {
   "cell_type": "code",
   "execution_count": 20,
   "id": "e9f9e781",
   "metadata": {
    "execution": {
     "iopub.execute_input": "2022-06-01T20:53:37.790379Z",
     "iopub.status.busy": "2022-06-01T20:53:37.790063Z",
     "iopub.status.idle": "2022-06-01T20:53:37.799345Z",
     "shell.execute_reply": "2022-06-01T20:53:37.798643Z"
    },
    "papermill": {
     "duration": 0.070453,
     "end_time": "2022-06-01T20:53:37.801386",
     "exception": false,
     "start_time": "2022-06-01T20:53:37.730933",
     "status": "completed"
    },
    "tags": []
   },
   "outputs": [
    {
     "data": {
      "text/plain": [
       "PassengerId      0\n",
       "Survived         0\n",
       "Pclass           0\n",
       "Name             0\n",
       "Sex              0\n",
       "Age              0\n",
       "SibSp            0\n",
       "Parch            0\n",
       "Ticket           0\n",
       "Fare             0\n",
       "Cabin          687\n",
       "Embarked         0\n",
       "dtype: int64"
      ]
     },
     "execution_count": 20,
     "metadata": {},
     "output_type": "execute_result"
    }
   ],
   "source": [
    "train_set.isna().sum()"
   ]
  },
  {
   "cell_type": "code",
   "execution_count": 21,
   "id": "f0efaed6",
   "metadata": {
    "execution": {
     "iopub.execute_input": "2022-06-01T20:53:37.919636Z",
     "iopub.status.busy": "2022-06-01T20:53:37.919061Z",
     "iopub.status.idle": "2022-06-01T20:53:37.927105Z",
     "shell.execute_reply": "2022-06-01T20:53:37.926286Z"
    },
    "papermill": {
     "duration": 0.069137,
     "end_time": "2022-06-01T20:53:37.929187",
     "exception": false,
     "start_time": "2022-06-01T20:53:37.860050",
     "status": "completed"
    },
    "tags": []
   },
   "outputs": [
    {
     "data": {
      "text/plain": [
       "PassengerId      0\n",
       "Pclass           0\n",
       "Name             0\n",
       "Sex              0\n",
       "Age              0\n",
       "SibSp            0\n",
       "Parch            0\n",
       "Ticket           0\n",
       "Fare             0\n",
       "Cabin          327\n",
       "Embarked         0\n",
       "dtype: int64"
      ]
     },
     "execution_count": 21,
     "metadata": {},
     "output_type": "execute_result"
    }
   ],
   "source": [
    "test_set.isna().sum()"
   ]
  },
  {
   "cell_type": "markdown",
   "id": "2f8b69a6",
   "metadata": {
    "papermill": {
     "duration": 0.058536,
     "end_time": "2022-06-01T20:53:38.046055",
     "exception": false,
     "start_time": "2022-06-01T20:53:37.987519",
     "status": "completed"
    },
    "tags": []
   },
   "source": [
    "# Normlaize train set"
   ]
  },
  {
   "cell_type": "code",
   "execution_count": 22,
   "id": "3878f608",
   "metadata": {
    "execution": {
     "iopub.execute_input": "2022-06-01T20:53:38.166508Z",
     "iopub.status.busy": "2022-06-01T20:53:38.165431Z",
     "iopub.status.idle": "2022-06-01T20:53:38.376529Z",
     "shell.execute_reply": "2022-06-01T20:53:38.375546Z"
    },
    "papermill": {
     "duration": 0.273434,
     "end_time": "2022-06-01T20:53:38.378779",
     "exception": false,
     "start_time": "2022-06-01T20:53:38.105345",
     "status": "completed"
    },
    "tags": []
   },
   "outputs": [
    {
     "data": {
      "text/plain": [
       "<AxesSubplot:>"
      ]
     },
     "execution_count": 22,
     "metadata": {},
     "output_type": "execute_result"
    },
    {
     "data": {
      "image/png": "[encoded data removed]",
      "text/plain": [
       "<Figure size 432x288 with 1 Axes>"
      ]
     },
     "metadata": {
      "needs_background": "light"
     },
     "output_type": "display_data"
    }
   ],
   "source": [
    "column = 'Fare'\n",
    "train_set[column] = (train_set[column] - train_set[column].min()) / (train_set[column].max() - train_set[column].min())\n",
    "train_set[column].hist()\n"
   ]
  },
  {
   "cell_type": "code",
   "execution_count": 23,
   "id": "670c8ec7",
   "metadata": {
    "execution": {
     "iopub.execute_input": "2022-06-01T20:53:38.512676Z",
     "iopub.status.busy": "2022-06-01T20:53:38.511980Z",
     "iopub.status.idle": "2022-06-01T20:53:38.727842Z",
     "shell.execute_reply": "2022-06-01T20:53:38.727183Z"
    },
    "papermill": {
     "duration": 0.292352,
     "end_time": "2022-06-01T20:53:38.730209",
     "exception": false,
     "start_time": "2022-06-01T20:53:38.437857",
     "status": "completed"
    },
    "tags": []
   },
   "outputs": [
    {
     "data": {
      "text/plain": [
       "<AxesSubplot:>"
      ]
     },
     "execution_count": 23,
     "metadata": {},
     "output_type": "execute_result"
    },
    {
     "data": {
      "image/png": "[encoded data removed]",
      "text/plain": [
       "<Figure size 432x288 with 1 Axes>"
      ]
     },
     "metadata": {
      "needs_background": "light"
     },
     "output_type": "display_data"
    }
   ],
   "source": [
    "column = 'Age'\n",
    "train_set[column] = (train_set[column] - train_set[column].min()) / (train_set[column].max() - train_set[column].min())\n",
    "train_set[column].hist()"
   ]
  },
  {
   "cell_type": "markdown",
   "id": "c1b9c965",
   "metadata": {
    "papermill": {
     "duration": 0.063008,
     "end_time": "2022-06-01T20:53:38.854634",
     "exception": false,
     "start_time": "2022-06-01T20:53:38.791626",
     "status": "completed"
    },
    "tags": []
   },
   "source": [
    "# "
   ]
  },
  {
   "cell_type": "markdown",
   "id": "eec88e23",
   "metadata": {
    "papermill": {
     "duration": 0.061631,
     "end_time": "2022-06-01T20:53:38.978709",
     "exception": false,
     "start_time": "2022-06-01T20:53:38.917078",
     "status": "completed"
    },
    "tags": []
   },
   "source": [
    "# Normlaize test set"
   ]
  },
  {
   "cell_type": "code",
   "execution_count": 24,
   "id": "a14fb0d7",
   "metadata": {
    "execution": {
     "iopub.execute_input": "2022-06-01T20:53:39.101571Z",
     "iopub.status.busy": "2022-06-01T20:53:39.101140Z",
     "iopub.status.idle": "2022-06-01T20:53:39.128827Z",
     "shell.execute_reply": "2022-06-01T20:53:39.128125Z"
    },
    "papermill": {
     "duration": 0.091264,
     "end_time": "2022-06-01T20:53:39.130770",
     "exception": false,
     "start_time": "2022-06-01T20:53:39.039506",
     "status": "completed"
    },
    "tags": []
   },
   "outputs": [
    {
     "data": {
      "text/html": [
       "<div>\n",
       "<style scoped>\n",
       "    .dataframe tbody tr th:only-of-type {\n",
       "        vertical-align: middle;\n",
       "    }\n",
       "\n",
       "    .dataframe tbody tr th {\n",
       "        vertical-align: top;\n",
       "    }\n",
       "\n",
       "    .dataframe thead th {\n",
       "        text-align: right;\n",
       "    }\n",
       "</style>\n",
       "<table border=\"1\" class=\"dataframe\">\n",
       "  <thead>\n",
       "    <tr style=\"text-align: right;\">\n",
       "      <th></th>\n",
       "      <th>PassengerId</th>\n",
       "      <th>Pclass</th>\n",
       "      <th>Age</th>\n",
       "      <th>SibSp</th>\n",
       "      <th>Parch</th>\n",
       "      <th>Fare</th>\n",
       "    </tr>\n",
       "  </thead>\n",
       "  <tbody>\n",
       "    <tr>\n",
       "      <th>count</th>\n",
       "      <td>418.000000</td>\n",
       "      <td>418.000000</td>\n",
       "      <td>418.000000</td>\n",
       "      <td>418.000000</td>\n",
       "      <td>418.000000</td>\n",
       "      <td>418.000000</td>\n",
       "    </tr>\n",
       "    <tr>\n",
       "      <th>mean</th>\n",
       "      <td>1100.500000</td>\n",
       "      <td>2.265550</td>\n",
       "      <td>30.272590</td>\n",
       "      <td>0.447368</td>\n",
       "      <td>0.392344</td>\n",
       "      <td>35.627188</td>\n",
       "    </tr>\n",
       "    <tr>\n",
       "      <th>std</th>\n",
       "      <td>120.810458</td>\n",
       "      <td>0.841838</td>\n",
       "      <td>12.634534</td>\n",
       "      <td>0.896760</td>\n",
       "      <td>0.981429</td>\n",
       "      <td>55.840500</td>\n",
       "    </tr>\n",
       "    <tr>\n",
       "      <th>min</th>\n",
       "      <td>892.000000</td>\n",
       "      <td>1.000000</td>\n",
       "      <td>0.170000</td>\n",
       "      <td>0.000000</td>\n",
       "      <td>0.000000</td>\n",
       "      <td>0.000000</td>\n",
       "    </tr>\n",
       "    <tr>\n",
       "      <th>25%</th>\n",
       "      <td>996.250000</td>\n",
       "      <td>1.000000</td>\n",
       "      <td>23.000000</td>\n",
       "      <td>0.000000</td>\n",
       "      <td>0.000000</td>\n",
       "      <td>7.895800</td>\n",
       "    </tr>\n",
       "    <tr>\n",
       "      <th>50%</th>\n",
       "      <td>1100.500000</td>\n",
       "      <td>3.000000</td>\n",
       "      <td>30.272590</td>\n",
       "      <td>0.000000</td>\n",
       "      <td>0.000000</td>\n",
       "      <td>14.454200</td>\n",
       "    </tr>\n",
       "    <tr>\n",
       "      <th>75%</th>\n",
       "      <td>1204.750000</td>\n",
       "      <td>3.000000</td>\n",
       "      <td>35.750000</td>\n",
       "      <td>1.000000</td>\n",
       "      <td>0.000000</td>\n",
       "      <td>31.500000</td>\n",
       "    </tr>\n",
       "    <tr>\n",
       "      <th>max</th>\n",
       "      <td>1309.000000</td>\n",
       "      <td>3.000000</td>\n",
       "      <td>76.000000</td>\n",
       "      <td>8.000000</td>\n",
       "      <td>9.000000</td>\n",
       "      <td>512.329200</td>\n",
       "    </tr>\n",
       "  </tbody>\n",
       "</table>\n",
       "</div>"
      ],
      "text/plain": [
       "       PassengerId      Pclass         Age       SibSp       Parch        Fare\n",
       "count   418.000000  418.000000  418.000000  418.000000  418.000000  418.000000\n",
       "mean   1100.500000    2.265550   30.272590    0.447368    0.392344   35.627188\n",
       "std     120.810458    0.841838   12.634534    0.896760    0.981429   55.840500\n",
       "min     892.000000    1.000000    0.170000    0.000000    0.000000    0.000000\n",
       "25%     996.250000    1.000000   23.000000    0.000000    0.000000    7.895800\n",
       "50%    1100.500000    3.000000   30.272590    0.000000    0.000000   14.454200\n",
       "75%    1204.750000    3.000000   35.750000    1.000000    0.000000   31.500000\n",
       "max    1309.000000    3.000000   76.000000    8.000000    9.000000  512.329200"
      ]
     },
     "execution_count": 24,
     "metadata": {},
     "output_type": "execute_result"
    }
   ],
   "source": [
    "test_set.describe()"
   ]
  },
  {
   "cell_type": "code",
   "execution_count": 25,
   "id": "c3914938",
   "metadata": {
    "execution": {
     "iopub.execute_input": "2022-06-01T20:53:39.256842Z",
     "iopub.status.busy": "2022-06-01T20:53:39.256506Z",
     "iopub.status.idle": "2022-06-01T20:53:39.465962Z",
     "shell.execute_reply": "2022-06-01T20:53:39.465212Z"
    },
    "papermill": {
     "duration": 0.275869,
     "end_time": "2022-06-01T20:53:39.468098",
     "exception": false,
     "start_time": "2022-06-01T20:53:39.192229",
     "status": "completed"
    },
    "tags": []
   },
   "outputs": [
    {
     "data": {
      "text/plain": [
       "<AxesSubplot:>"
      ]
     },
     "execution_count": 25,
     "metadata": {},
     "output_type": "execute_result"
    },
    {
     "data": {
      "image/png": "[encoded data removed]",
      "text/plain": [
       "<Figure size 432x288 with 1 Axes>"
      ]
     },
     "metadata": {
      "needs_background": "light"
     },
     "output_type": "display_data"
    }
   ],
   "source": [
    "column = 'Age'\n",
    "test_set[column] = (test_set[column] - test_set[column].min()) / (test_set[column].max() - test_set[column].min())\n",
    "test_set[column].hist()"
   ]
  },
  {
   "cell_type": "code",
   "execution_count": 26,
   "id": "51a136c0",
   "metadata": {
    "execution": {
     "iopub.execute_input": "2022-06-01T20:53:39.595034Z",
     "iopub.status.busy": "2022-06-01T20:53:39.594583Z",
     "iopub.status.idle": "2022-06-01T20:53:39.812573Z",
     "shell.execute_reply": "2022-06-01T20:53:39.811833Z"
    },
    "papermill": {
     "duration": 0.283581,
     "end_time": "2022-06-01T20:53:39.814866",
     "exception": false,
     "start_time": "2022-06-01T20:53:39.531285",
     "status": "completed"
    },
    "tags": []
   },
   "outputs": [
    {
     "data": {
      "text/plain": [
       "<AxesSubplot:>"
      ]
     },
     "execution_count": 26,
     "metadata": {},
     "output_type": "execute_result"
    },
    {
     "data": {
      "image/png": "[encoded data removed]",
      "text/plain": [
       "<Figure size 432x288 with 1 Axes>"
      ]
     },
     "metadata": {
      "needs_background": "light"
     },
     "output_type": "display_data"
    }
   ],
   "source": [
    "column = 'Fare'\n",
    "test_set[column] = (test_set[column] - test_set[column].min()) / (test_set[column].max() - test_set[column].min())\n",
    "test_set[column].hist()"
   ]
  },
  {
   "cell_type": "markdown",
   "id": "abfecb8d",
   "metadata": {
    "papermill": {
     "duration": 0.062804,
     "end_time": "2022-06-01T20:53:39.941258",
     "exception": false,
     "start_time": "2022-06-01T20:53:39.878454",
     "status": "completed"
    },
    "tags": []
   },
   "source": [
    "# Drop columns"
   ]
  },
  {
   "cell_type": "code",
   "execution_count": 27,
   "id": "9acd8dc3",
   "metadata": {
    "execution": {
     "iopub.execute_input": "2022-06-01T20:53:40.071370Z",
     "iopub.status.busy": "2022-06-01T20:53:40.070477Z",
     "iopub.status.idle": "2022-06-01T20:53:40.077680Z",
     "shell.execute_reply": "2022-06-01T20:53:40.077003Z"
    },
    "papermill": {
     "duration": 0.074683,
     "end_time": "2022-06-01T20:53:40.079966",
     "exception": false,
     "start_time": "2022-06-01T20:53:40.005283",
     "status": "completed"
    },
    "tags": []
   },
   "outputs": [],
   "source": [
    "train_set =train_set.drop(['PassengerId', 'Cabin','Name','Ticket'], axis=1)\n",
    "\n",
    "test_set =test_set.drop(['Cabin','Name','Ticket'], axis=1)\n",
    "\n",
    "# validation_set = test_set.drop([\"PassengerId\"] , axis = 1)\n"
   ]
  },
  {
   "cell_type": "code",
   "execution_count": 28,
   "id": "0554cb81",
   "metadata": {
    "execution": {
     "iopub.execute_input": "2022-06-01T20:53:40.208877Z",
     "iopub.status.busy": "2022-06-01T20:53:40.208412Z",
     "iopub.status.idle": "2022-06-01T20:53:40.224558Z",
     "shell.execute_reply": "2022-06-01T20:53:40.223841Z"
    },
    "papermill": {
     "duration": 0.084748,
     "end_time": "2022-06-01T20:53:40.227166",
     "exception": false,
     "start_time": "2022-06-01T20:53:40.142418",
     "status": "completed"
    },
    "tags": []
   },
   "outputs": [],
   "source": [
    "train_set = pd.get_dummies(train_set)\n",
    "\n",
    "test_set = pd.get_dummies(test_set)\n",
    "\n",
    "# validation_set = pd.get_dummies(validation_set)\n",
    "\n"
   ]
  },
  {
   "cell_type": "code",
   "execution_count": 29,
   "id": "774f72bc",
   "metadata": {
    "execution": {
     "iopub.execute_input": "2022-06-01T20:53:40.355669Z",
     "iopub.status.busy": "2022-06-01T20:53:40.355106Z",
     "iopub.status.idle": "2022-06-01T20:53:40.361499Z",
     "shell.execute_reply": "2022-06-01T20:53:40.360784Z"
    },
    "papermill": {
     "duration": 0.073564,
     "end_time": "2022-06-01T20:53:40.363840",
     "exception": false,
     "start_time": "2022-06-01T20:53:40.290276",
     "status": "completed"
    },
    "tags": []
   },
   "outputs": [],
   "source": [
    "x_train = train_set.drop([\"Survived\"], axis=1)\n",
    "y_train = train_set[\"Survived\"]"
   ]
  },
  {
   "cell_type": "code",
   "execution_count": 30,
   "id": "d329acf7",
   "metadata": {
    "execution": {
     "iopub.execute_input": "2022-06-01T20:53:40.494624Z",
     "iopub.status.busy": "2022-06-01T20:53:40.494016Z",
     "iopub.status.idle": "2022-06-01T20:53:40.727035Z",
     "shell.execute_reply": "2022-06-01T20:53:40.726057Z"
    },
    "papermill": {
     "duration": 0.302468,
     "end_time": "2022-06-01T20:53:40.729426",
     "exception": false,
     "start_time": "2022-06-01T20:53:40.426958",
     "status": "completed"
    },
    "tags": []
   },
   "outputs": [],
   "source": [
    "from sklearn.model_selection import train_test_split\n",
    "\n",
    "xx_train, xx_validation, yy_train, yy_validation =train_test_split(x_train, y_train, test_size=0.1, random_state=0)\n"
   ]
  },
  {
   "cell_type": "code",
   "execution_count": 31,
   "id": "6f143386",
   "metadata": {
    "execution": {
     "iopub.execute_input": "2022-06-01T20:53:40.858318Z",
     "iopub.status.busy": "2022-06-01T20:53:40.858009Z",
     "iopub.status.idle": "2022-06-01T20:53:40.865484Z",
     "shell.execute_reply": "2022-06-01T20:53:40.864415Z"
    },
    "papermill": {
     "duration": 0.075284,
     "end_time": "2022-06-01T20:53:40.868002",
     "exception": false,
     "start_time": "2022-06-01T20:53:40.792718",
     "status": "completed"
    },
    "tags": []
   },
   "outputs": [
    {
     "name": "stdout",
     "output_type": "stream",
     "text": [
      "x-train (801, 10)\n",
      "y-train (801,)\n",
      "x-validation (90, 10)\n",
      "y-validation (90,)\n"
     ]
    }
   ],
   "source": [
    "print(\"x-train {}\".format(xx_train.shape))\n",
    "print(\"y-train {}\".format(yy_train.shape))\n",
    "print(\"x-validation {}\".format(xx_validation.shape))\n",
    "print(\"y-validation {}\".format(yy_validation.shape))\n"
   ]
  },
  {
   "cell_type": "markdown",
   "id": "59423bbe",
   "metadata": {
    "papermill": {
     "duration": 0.063905,
     "end_time": "2022-06-01T20:53:40.997966",
     "exception": false,
     "start_time": "2022-06-01T20:53:40.934061",
     "status": "completed"
    },
    "tags": []
   },
   "source": [
    "# Models"
   ]
  },
  {
   "cell_type": "code",
   "execution_count": 32,
   "id": "3ace36a0",
   "metadata": {
    "execution": {
     "iopub.execute_input": "2022-06-01T20:53:41.127644Z",
     "iopub.status.busy": "2022-06-01T20:53:41.126693Z",
     "iopub.status.idle": "2022-06-01T20:53:41.392769Z",
     "shell.execute_reply": "2022-06-01T20:53:41.391879Z"
    },
    "papermill": {
     "duration": 0.332967,
     "end_time": "2022-06-01T20:53:41.395119",
     "exception": false,
     "start_time": "2022-06-01T20:53:41.062152",
     "status": "completed"
    },
    "tags": []
   },
   "outputs": [],
   "source": [
    "from sklearn.ensemble import RandomForestClassifier, AdaBoostClassifier\n",
    "from sklearn.model_selection import RandomizedSearchCV\n",
    "from sklearn.model_selection import StratifiedKFold\n",
    "from sklearn.model_selection import cross_val_score\n",
    "\n"
   ]
  },
  {
   "cell_type": "code",
   "execution_count": 33,
   "id": "509025ba",
   "metadata": {
    "execution": {
     "iopub.execute_input": "2022-06-01T20:53:41.528992Z",
     "iopub.status.busy": "2022-06-01T20:53:41.528666Z",
     "iopub.status.idle": "2022-06-01T20:54:04.663291Z",
     "shell.execute_reply": "2022-06-01T20:54:04.662394Z"
    },
    "papermill": {
     "duration": 23.205476,
     "end_time": "2022-06-01T20:54:04.665706",
     "exception": false,
     "start_time": "2022-06-01T20:53:41.460230",
     "status": "completed"
    },
    "tags": []
   },
   "outputs": [
    {
     "name": "stdout",
     "output_type": "stream",
     "text": [
      "[0.7755611 0.81     ]\n",
      "0.792780548628429\n"
     ]
    }
   ],
   "source": [
    "\n",
    "clf_ada = AdaBoostClassifier()\n",
    "\n",
    "param_dist = {\"n_estimators\": [10, 100, 200, 400],\n",
    "              \"learning_rate\": [0.001, 0.005, .01, 0.05, 0.1, 0.2, 0.3, 0.4, 0.5, 1, 2, 10, 20]}\n",
    "\n",
    "\n",
    "# Run a randomized search over the hyperparameters\n",
    "ada_search = RandomizedSearchCV(clf_ada, param_distributions=param_dist)\n",
    "\n",
    "sk_fold=StratifiedKFold(n_splits=2)\n",
    "\n",
    "scores=cross_val_score(ada_search,xx_train,yy_train,cv=sk_fold)\n",
    "\n",
    "print(scores)\n",
    "print(np.mean(scores))"
   ]
  },
  {
   "cell_type": "code",
   "execution_count": 34,
   "id": "2fd31ca5",
   "metadata": {
    "execution": {
     "iopub.execute_input": "2022-06-01T20:54:04.798327Z",
     "iopub.status.busy": "2022-06-01T20:54:04.797792Z",
     "iopub.status.idle": "2022-06-01T20:54:22.337377Z",
     "shell.execute_reply": "2022-06-01T20:54:22.336436Z"
    },
    "papermill": {
     "duration": 17.60941,
     "end_time": "2022-06-01T20:54:22.339637",
     "exception": false,
     "start_time": "2022-06-01T20:54:04.730227",
     "status": "completed"
    },
    "tags": []
   },
   "outputs": [
    {
     "data": {
      "text/plain": [
       "RandomizedSearchCV(estimator=AdaBoostClassifier(),\n",
       "                   param_distributions={'learning_rate': [0.001, 0.005, 0.01,\n",
       "                                                          0.05, 0.1, 0.2, 0.3,\n",
       "                                                          0.4, 0.5, 1, 2, 10,\n",
       "                                                          20],\n",
       "                                        'n_estimators': [10, 100, 200, 400]})"
      ]
     },
     "execution_count": 34,
     "metadata": {},
     "output_type": "execute_result"
    }
   ],
   "source": [
    "\n",
    "ada_search.fit(xx_train,yy_train)\n",
    "\n"
   ]
  },
  {
   "cell_type": "code",
   "execution_count": 35,
   "id": "bf7a1ecc",
   "metadata": {
    "execution": {
     "iopub.execute_input": "2022-06-01T20:54:22.476998Z",
     "iopub.status.busy": "2022-06-01T20:54:22.476576Z",
     "iopub.status.idle": "2022-06-01T20:54:22.506492Z",
     "shell.execute_reply": "2022-06-01T20:54:22.505180Z"
    },
    "papermill": {
     "duration": 0.10297,
     "end_time": "2022-06-01T20:54:22.509588",
     "exception": false,
     "start_time": "2022-06-01T20:54:22.406618",
     "status": "completed"
    },
    "tags": []
   },
   "outputs": [
    {
     "name": "stdout",
     "output_type": "stream",
     "text": [
      "0.8111111111111111\n"
     ]
    }
   ],
   "source": [
    "print(ada_search.score(xx_validation,yy_validation))\n"
   ]
  },
  {
   "cell_type": "code",
   "execution_count": 36,
   "id": "cff436fc",
   "metadata": {
    "execution": {
     "iopub.execute_input": "2022-06-01T20:54:22.676254Z",
     "iopub.status.busy": "2022-06-01T20:54:22.675609Z",
     "iopub.status.idle": "2022-06-01T20:54:51.184791Z",
     "shell.execute_reply": "2022-06-01T20:54:51.183771Z"
    },
    "papermill": {
     "duration": 28.593003,
     "end_time": "2022-06-01T20:54:51.187169",
     "exception": false,
     "start_time": "2022-06-01T20:54:22.594166",
     "status": "completed"
    },
    "tags": []
   },
   "outputs": [
    {
     "name": "stdout",
     "output_type": "stream",
     "text": [
      "[0.80524345 0.85393258 0.83146067]\n",
      "0.8302122347066166\n"
     ]
    }
   ],
   "source": [
    "from sklearn.model_selection import RandomizedSearchCV\n",
    "\n",
    "\n",
    "\n",
    "rfc = RandomForestClassifier()\n",
    "\n",
    "param_dist = {\"max_depth\": [3, None],\n",
    "              \"n_estimators\": list(range(10, 200)),\n",
    "              \"max_features\": list(range(1, xx_train.shape[1]+1)),\n",
    "              \"min_samples_split\": list(range(2, 11)),\n",
    "              \"min_samples_leaf\": list(range(1, 11)),\n",
    "              \"bootstrap\": [True, False],\n",
    "              \"criterion\": [\"gini\", \"entropy\"]}\n",
    "\n",
    "\n",
    "# Run a randomized search over the hyperparameters\n",
    "random_search = RandomizedSearchCV(rfc, param_distributions=param_dist)\n",
    "\n",
    "\n",
    "\n",
    "from sklearn.model_selection import StratifiedKFold\n",
    "\n",
    "sk_fold=StratifiedKFold(n_splits=3)\n",
    "\n",
    "scores=cross_val_score(random_search,xx_train,yy_train,cv=sk_fold)\n",
    "\n",
    "\n",
    "print(scores)\n",
    "print(np.mean(scores))\n",
    "\n"
   ]
  },
  {
   "cell_type": "code",
   "execution_count": 37,
   "id": "528556b5",
   "metadata": {
    "execution": {
     "iopub.execute_input": "2022-06-01T20:54:51.322420Z",
     "iopub.status.busy": "2022-06-01T20:54:51.322146Z",
     "iopub.status.idle": "2022-06-01T20:55:01.444718Z",
     "shell.execute_reply": "2022-06-01T20:55:01.443763Z"
    },
    "papermill": {
     "duration": 10.192678,
     "end_time": "2022-06-01T20:55:01.447447",
     "exception": false,
     "start_time": "2022-06-01T20:54:51.254769",
     "status": "completed"
    },
    "tags": []
   },
   "outputs": [
    {
     "data": {
      "text/plain": [
       "RandomizedSearchCV(estimator=RandomForestClassifier(),\n",
       "                   param_distributions={'bootstrap': [True, False],\n",
       "                                        'criterion': ['gini', 'entropy'],\n",
       "                                        'max_depth': [3, None],\n",
       "                                        'max_features': [1, 2, 3, 4, 5, 6, 7, 8,\n",
       "                                                         9, 10],\n",
       "                                        'min_samples_leaf': [1, 2, 3, 4, 5, 6,\n",
       "                                                             7, 8, 9, 10],\n",
       "                                        'min_samples_split': [2, 3, 4, 5, 6, 7,\n",
       "                                                              8, 9, 10],\n",
       "                                        'n_estimators': [10, 11, 12, 13, 14, 15,\n",
       "                                                         16, 17, 18, 19, 20, 21,\n",
       "                                                         22, 23, 24, 25, 26, 27,\n",
       "                                                         28, 29, 30, 31, 32, 33,\n",
       "                                                         34, 35, 36, 37, 38, 39, ...]})"
      ]
     },
     "execution_count": 37,
     "metadata": {},
     "output_type": "execute_result"
    }
   ],
   "source": [
    "random_search.fit(xx_train,yy_train)\n"
   ]
  },
  {
   "cell_type": "code",
   "execution_count": 38,
   "id": "bff7d3d6",
   "metadata": {
    "execution": {
     "iopub.execute_input": "2022-06-01T20:55:01.583356Z",
     "iopub.status.busy": "2022-06-01T20:55:01.582494Z",
     "iopub.status.idle": "2022-06-01T20:55:01.595720Z",
     "shell.execute_reply": "2022-06-01T20:55:01.594822Z"
    },
    "papermill": {
     "duration": 0.083242,
     "end_time": "2022-06-01T20:55:01.598759",
     "exception": false,
     "start_time": "2022-06-01T20:55:01.515517",
     "status": "completed"
    },
    "tags": []
   },
   "outputs": [
    {
     "name": "stdout",
     "output_type": "stream",
     "text": [
      "0.8333333333333334\n"
     ]
    }
   ],
   "source": [
    "print(random_search.score(xx_validation,yy_validation))\n"
   ]
  },
  {
   "cell_type": "code",
   "execution_count": 39,
   "id": "dce48189",
   "metadata": {
    "execution": {
     "iopub.execute_input": "2022-06-01T20:55:01.736111Z",
     "iopub.status.busy": "2022-06-01T20:55:01.734992Z",
     "iopub.status.idle": "2022-06-01T20:55:01.753366Z",
     "shell.execute_reply": "2022-06-01T20:55:01.752543Z"
    },
    "papermill": {
     "duration": 0.088065,
     "end_time": "2022-06-01T20:55:01.755659",
     "exception": false,
     "start_time": "2022-06-01T20:55:01.667594",
     "status": "completed"
    },
    "tags": []
   },
   "outputs": [],
   "source": [
    "test_data_me = test_set.drop([\"PassengerId\"] , axis = 1)\n",
    "test_data_me = pd.get_dummies(test_data_me)\n",
    "y_pred = random_search.predict(test_data_me)\n"
   ]
  },
  {
   "cell_type": "code",
   "execution_count": 40,
   "id": "a9faa9e8",
   "metadata": {
    "execution": {
     "iopub.execute_input": "2022-06-01T20:55:01.891424Z",
     "iopub.status.busy": "2022-06-01T20:55:01.891024Z",
     "iopub.status.idle": "2022-06-01T20:55:01.902454Z",
     "shell.execute_reply": "2022-06-01T20:55:01.901438Z"
    },
    "papermill": {
     "duration": 0.083086,
     "end_time": "2022-06-01T20:55:01.905217",
     "exception": false,
     "start_time": "2022-06-01T20:55:01.822131",
     "status": "completed"
    },
    "tags": []
   },
   "outputs": [
    {
     "name": "stdout",
     "output_type": "stream",
     "text": [
      "PassengerId    False\n",
      "Survived       False\n",
      "dtype: bool\n"
     ]
    }
   ],
   "source": [
    "final_dict = {'PassengerId': test_set[\"PassengerId\"], 'Survived':y_pred}\n",
    "\n",
    "df = pd.DataFrame(final_dict)\n",
    "print(df.isna().any())\n",
    "df.to_csv('submission.csv', index=False)"
   ]
  },
  {
   "cell_type": "code",
   "execution_count": null,
   "id": "dc1753e7",
   "metadata": {
    "execution": {
     "iopub.execute_input": "2022-06-01T20:22:50.670077Z",
     "iopub.status.busy": "2022-06-01T20:22:50.668631Z",
     "iopub.status.idle": "2022-06-01T20:22:50.684340Z",
     "shell.execute_reply": "2022-06-01T20:22:50.683025Z",
     "shell.execute_reply.started": "2022-06-01T20:22:50.670006Z"
    },
    "papermill": {
     "duration": 0.067613,
     "end_time": "2022-06-01T20:55:02.042321",
     "exception": false,
     "start_time": "2022-06-01T20:55:01.974708",
     "status": "completed"
    },
    "tags": []
   },
   "outputs": [],
   "source": []
  },
  {
   "cell_type": "code",
   "execution_count": null,
   "id": "184b1ef7",
   "metadata": {
    "papermill": {
     "duration": 0.067755,
     "end_time": "2022-06-01T20:55:02.176263",
     "exception": false,
     "start_time": "2022-06-01T20:55:02.108508",
     "status": "completed"
    },
    "tags": []
   },
   "outputs": [],
   "source": []
  }
 ],
 "metadata": {
  "kernelspec": {
   "display_name": "Python 3",
   "language": "python",
   "name": "python3"
  },
  "language_info": {
   "codemirror_mode": {
    "name": "ipython",
    "version": 3
   },
   "file_extension": ".py",
   "mimetype": "text/x-python",
   "name": "python",
   "nbconvert_exporter": "python",
   "pygments_lexer": "ipython3",
   "version": "3.7.12"
  },
  "papermill": {
   "default_parameters": {},
   "duration": 103.75699,
   "end_time": "2022-06-01T20:55:03.163603",
   "environment_variables": {},
   "exception": null,
   "input_path": "__notebook__.ipynb",
   "output_path": "__notebook__.ipynb",
   "parameters": {},
   "start_time": "2022-06-01T20:53:19.406613",
   "version": "2.3.4"
  }
 },
 "nbformat": 4,
 "nbformat_minor": 5
}
